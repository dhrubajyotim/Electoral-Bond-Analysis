{
 "cells": [
  {
   "cell_type": "code",
   "execution_count": 67,
   "id": "2481146a-eb1b-4582-ba20-4216ca00765a",
   "metadata": {},
   "outputs": [
    {
     "name": "stdout",
     "output_type": "stream",
     "text": [
      "0     Date of\\nEncashment               Name of the Political Party  \\\n",
      "0             12/Apr/2019  ALL INDIA ANNA DRAVIDA MUNNETRA KAZHAGAM   \n",
      "1             12/Apr/2019  ALL INDIA ANNA DRAVIDA MUNNETRA KAZHAGAM   \n",
      "2             12/Apr/2019  ALL INDIA ANNA DRAVIDA MUNNETRA KAZHAGAM   \n",
      "3             12/Apr/2019  ALL INDIA ANNA DRAVIDA MUNNETRA KAZHAGAM   \n",
      "4             12/Apr/2019  ALL INDIA ANNA DRAVIDA MUNNETRA KAZHAGAM   \n",
      "...                   ...                                       ...   \n",
      "20416         24/Jan/2024                            JANASENA PARTY   \n",
      "20417         24/Jan/2024                            JANASENA PARTY   \n",
      "20418         24/Jan/2024                            JANASENA PARTY   \n",
      "20419         24/Jan/2024                            JANASENA PARTY   \n",
      "20420         24/Jan/2024                            JANASENA PARTY   \n",
      "\n",
      "0     Denomination  \n",
      "0        10,00,000  \n",
      "1        10,00,000  \n",
      "2      1,00,00,000  \n",
      "3        10,00,000  \n",
      "4        10,00,000  \n",
      "...            ...  \n",
      "20416    10,00,000  \n",
      "20417    10,00,000  \n",
      "20418    10,00,000  \n",
      "20419    10,00,000  \n",
      "20420    10,00,000  \n",
      "\n",
      "[20421 rows x 3 columns]\n"
     ]
    }
   ],
   "source": [
    "import pdfplumber\n",
    "import pandas as pd\n",
    "\n",
    "# Create df from table on first page to act as the first df:\n",
    "pdf_file = \"encashment_details.pdf\"\n",
    "pdf = pdfplumber.open(pdf_file)\n",
    "pages = pdf.pages\n",
    "tbl = pages[0].extract_table()\n",
    "original_df = pd.DataFrame(tbl)\n",
    "\n",
    "# Use the first row as the header:\n",
    "original_df.columns = original_df.iloc[0]\n",
    "original_df = original_df[1:]  # Remove the first row, as it's now the header\n",
    "\n",
    "# Append data from remaining tables/pages:\n",
    "tables = []\n",
    "with pdfplumber.open(pdf_file) as pdf:\n",
    "    for i, pg in enumerate(pdf.pages[1:], start=1):  # Start from the second page (index 1)\n",
    "        tbl = pg.extract_table()\n",
    "        if tbl:\n",
    "            df = pd.DataFrame(tbl)\n",
    "            df.columns = original_df.columns  # Set the columns to match the header\n",
    "            tables.append(df)\n",
    "\n",
    "if tables:\n",
    "    # Concatenate all dataframes in the tables list along axis=0\n",
    "    original_df = pd.concat([original_df] + tables, ignore_index=True)\n",
    "\n",
    "print(original_df)\n"
   ]
  },
  {
   "cell_type": "code",
   "execution_count": 68,
   "id": "c791f595-7e38-4ed4-b56f-c7a0a55ce649",
   "metadata": {},
   "outputs": [],
   "source": [
    "# Save the DataFrame as a CSV file\n",
    "original_df.to_csv('encashment_details_output.csv', index=False)\n"
   ]
  },
  {
   "cell_type": "code",
   "execution_count": 151,
   "id": "b6c88509-dd67-4f41-b23d-dfc1df3151e0",
   "metadata": {},
   "outputs": [
    {
     "name": "stdout",
     "output_type": "stream",
     "text": [
      "       Date of\\nEncashment Name of the Political Party Denomination\n",
      "count                20421                       20421        20421\n",
      "unique                 230                          27            5\n",
      "top            18/Apr/2019        BHARTIYA JANTA PARTY  1,00,00,000\n",
      "freq                   596                        8633        12207\n"
     ]
    }
   ],
   "source": [
    "import pandas as pd\n",
    "\n",
    "# Load the CSV file into a DataFrame\n",
    "df = pd.read_csv('encashment_details_output.csv')\n",
    "\n",
    "# Display basic statistics and information about the DataFrame\n",
    "print(df.describe())\n"
   ]
  },
  {
   "cell_type": "code",
   "execution_count": 133,
   "id": "f0118d48-5a6c-4397-8954-cc6c49777941",
   "metadata": {},
   "outputs": [
    {
     "name": "stdout",
     "output_type": "stream",
     "text": [
      "Index(['Date of\\nEncashment', 'Name of the Political Party', 'Denomination'], dtype='object')\n"
     ]
    }
   ],
   "source": [
    "print(df.columns)"
   ]
  },
  {
   "cell_type": "code",
   "execution_count": 145,
   "id": "7ed5c870-ea92-4db7-8a4c-7ffe395fbd8c",
   "metadata": {},
   "outputs": [
    {
     "name": "stdout",
     "output_type": "stream",
     "text": [
      "                       Name of the Political Party  Denomination in Crores\n",
      "5                             BHARTIYA JANTA PARTY               6060.5111\n",
      "3                     ALL INDIA TRINAMOOL CONGRESS               1609.5314\n",
      "17         PRESIDENT, ALL INDIA CONGRESS COMMITTEE               1421.8655\n",
      "4                           BHARAT RASHTRA SAMITHI               1214.7099\n",
      "7                                  BIJU JANATA DAL                775.5000\n",
      "8                          DMK PARTY IN PARLIAMENT                639.0000\n",
      "26          YSR CONGRESS PARTY (YUVAJANA SRAMIKA R                337.0000\n",
      "25                              TELUGU DESAM PARTY                218.8800\n",
      "22                      SHIVSENA (POLITICAL PARTY)                158.3814\n",
      "19                              RASTRIYA JANTA DAL                 72.5000\n",
      "0                                  AAM AADMI PARTY                 65.4500\n",
      "12                          JANATA DAL ( SECULAR )                 43.5000\n",
      "24                        SIKKIM KRANTIKARI MORCHA                 36.5000\n",
      "16        NATIONALIST CONGRESS PARTY PARLIAMENT OF                 30.5000\n",
      "11                                  JANASENA PARTY                 21.0000\n",
      "1                         ADYAKSHA SAMAJVADI PARTY                 14.0500\n",
      "6                  BIHAR PRADESH JANTA DAL(UNITED)                 14.0000\n",
      "13                          JHARKHAND MUKTI MORCHA                 13.5000\n",
      "20                             SHIROMANI AKALI DAL                  7.2600\n",
      "2         ALL INDIA ANNA DRAVIDA MUNNETRA KAZHAGAM                  6.0500\n",
      "23                         SIKKIM DEMOCRATIC FRONT                  5.5000\n",
      "18                             RASHTRIYA JANTA DAL                  1.0000\n",
      "21                                        SHIVSENA                  1.0000\n",
      "14                   MAHARASHTRAWADI GOMNTAK PARTY                  0.5500\n",
      "15  NATIONALIST CONGRESS PARTY MAHARASHTRA PRADESH                  0.5000\n",
      "10           JAMMU AND KASHMIR NATIONAL CONFERENCE                  0.5000\n",
      "9                                GOA FORWARD PARTY                  0.3500\n"
     ]
    }
   ],
   "source": [
    "import pandas as pd\n",
    "\n",
    "# Convert \"Denomination\" column to numeric type after removing commas\n",
    "df['Denomination'] = df['Denomination'].str.replace(',', '').astype(float)\n",
    "\n",
    "# Group by \"Name of the Political Party\" and find the sum of \"Denomination\"\n",
    "grouped_df = df.groupby('Name of the Political Party')['Denomination'].sum().reset_index()\n",
    "\n",
    "# Sort the grouped DataFrame in descending order based on \"Denomination\"\n",
    "sorted_df = grouped_df.sort_values(by='Denomination', ascending=False)\n",
    "\n",
    "# Convert \"Denomination\" column to numeric type after removing commas (assuming commas were already removed)\n",
    "sorted_df['Denomination'] = sorted_df['Denomination'].astype(float)\n",
    "\n",
    "# Divide \"Denomination\" values by 10 million to represent in crores\n",
    "sorted_df['Denomination in Crores'] = sorted_df['Denomination'] / 10**7\n",
    "\n",
    "# Display the DataFrame with Denomination in crores\n",
    "print(sorted_df[['Name of the Political Party', 'Denomination in Crores']])\n",
    "\n"
   ]
  }
 ],
 "metadata": {
  "kernelspec": {
   "display_name": "Python 3 (ipykernel)",
   "language": "python",
   "name": "python3"
  },
  "language_info": {
   "codemirror_mode": {
    "name": "ipython",
    "version": 3
   },
   "file_extension": ".py",
   "mimetype": "text/x-python",
   "name": "python",
   "nbconvert_exporter": "python",
   "pygments_lexer": "ipython3",
   "version": "3.11.3"
  }
 },
 "nbformat": 4,
 "nbformat_minor": 5
}
