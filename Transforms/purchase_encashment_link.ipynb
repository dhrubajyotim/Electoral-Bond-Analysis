{
 "cells": [
  {
   "cell_type": "code",
   "execution_count": 44,
   "id": "b876d6d5-fddb-4e92-b2e1-6f13d3790cf0",
   "metadata": {},
   "outputs": [
    {
     "name": "stdout",
     "output_type": "stream",
     "text": [
      "       Date of Purchase                       Purchaser Name Denomination\n",
      "count             18871                                18871        18871\n",
      "unique              146                                 1316            5\n",
      "top         05/Jan/2022  FUTURE GAMING AND HOTEL SERVICES PR  1,00,00,000\n",
      "freq                570                                 1208        11671\n",
      "Index(['Date of Purchase', 'Purchaser Name', 'Denomination'], dtype='object')\n"
     ]
    }
   ],
   "source": [
    "import pandas as pd\n",
    "\n",
    "# Load the CSV file into a DataFrame\n",
    "purchaser = pd.read_csv('purchaser_details_output.csv')\n",
    "\n",
    "# Display basic statistics and information about the DataFrame\n",
    "print(purchaser.describe())\n",
    "print(purchaser.columns)"
   ]
  },
  {
   "cell_type": "code",
   "execution_count": 45,
   "id": "050d0119-fd3f-4e8f-b211-2771ee59d456",
   "metadata": {},
   "outputs": [
    {
     "name": "stdout",
     "output_type": "stream",
     "text": [
      "       Date of\\nEncashment Name of the Political Party Denomination\n",
      "count                20421                       20421        20421\n",
      "unique                 230                          27            5\n",
      "top            18/Apr/2019        BHARTIYA JANTA PARTY  1,00,00,000\n",
      "freq                   596                        8633        12207\n",
      "Index(['Date of\\nEncashment', 'Name of the Political Party', 'Denomination'], dtype='object')\n"
     ]
    }
   ],
   "source": [
    "import pandas as pd\n",
    "\n",
    "# Load the CSV file into a DataFrame\n",
    "encasher = pd.read_csv('encashment_details_output.csv')\n",
    "\n",
    "# Display basic statistics and information about the DataFrame\n",
    "print(encasher.describe())\n",
    "print(encasher.columns)"
   ]
  },
  {
   "cell_type": "code",
   "execution_count": 46,
   "id": "8580d351-f819-4f80-b1cb-ad91f674ff40",
   "metadata": {},
   "outputs": [
    {
     "name": "stdout",
     "output_type": "stream",
     "text": [
      "        Date of Purchase                  Purchaser Name  Denomination_x  \\\n",
      "0            12/Apr/2019             A B C INDIA LIMITED          100000   \n",
      "1            12/Apr/2019             A B C INDIA LIMITED          100000   \n",
      "2            12/Apr/2019             A B C INDIA LIMITED          100000   \n",
      "3            12/Apr/2019             A B C INDIA LIMITED          100000   \n",
      "4            12/Apr/2019             A B C INDIA LIMITED          100000   \n",
      "...                  ...                             ...             ...   \n",
      "1727770      11/Jan/2024  WESTWELL GASES PRIVATE LIMITED        10000000   \n",
      "1727771      11/Jan/2024  WESTWELL GASES PRIVATE LIMITED        10000000   \n",
      "1727772      11/Jan/2024  WESTWELL GASES PRIVATE LIMITED        10000000   \n",
      "1727773      11/Jan/2024  WESTWELL GASES PRIVATE LIMITED        10000000   \n",
      "1727774      11/Jan/2024  WESTWELL GASES PRIVATE LIMITED        10000000   \n",
      "\n",
      "        Date of\\nEncashment               Name of the Political Party  \\\n",
      "0               12/Apr/2019  ALL INDIA ANNA DRAVIDA MUNNETRA KAZHAGAM   \n",
      "1               12/Apr/2019  ALL INDIA ANNA DRAVIDA MUNNETRA KAZHAGAM   \n",
      "2               12/Apr/2019  ALL INDIA ANNA DRAVIDA MUNNETRA KAZHAGAM   \n",
      "3               12/Apr/2019  ALL INDIA ANNA DRAVIDA MUNNETRA KAZHAGAM   \n",
      "4               12/Apr/2019  ALL INDIA ANNA DRAVIDA MUNNETRA KAZHAGAM   \n",
      "...                     ...                                       ...   \n",
      "1727770         11/Jan/2024                        TELUGU DESAM PARTY   \n",
      "1727771         11/Jan/2024                        TELUGU DESAM PARTY   \n",
      "1727772         11/Jan/2024                        TELUGU DESAM PARTY   \n",
      "1727773         11/Jan/2024                        TELUGU DESAM PARTY   \n",
      "1727774         11/Jan/2024                        TELUGU DESAM PARTY   \n",
      "\n",
      "         Denomination_y  \n",
      "0               1000000  \n",
      "1               1000000  \n",
      "2              10000000  \n",
      "3               1000000  \n",
      "4               1000000  \n",
      "...                 ...  \n",
      "1727770        10000000  \n",
      "1727771        10000000  \n",
      "1727772        10000000  \n",
      "1727773        10000000  \n",
      "1727774        10000000  \n",
      "\n",
      "[1727775 rows x 6 columns]\n"
     ]
    }
   ],
   "source": [
    "# Convert 'Denomination' columns to numeric after removing commas\n",
    "purchaser['Denomination'] = purchaser['Denomination'].str.replace(',', '').astype(int)\n",
    "encasher['Denomination'] = encasher['Denomination'].str.replace(',', '').astype(int)\n",
    "\n",
    "# Perform inner join on 'Date of Purchase' and 'Date of\\nEncashment' columns\n",
    "inner_join_df = pd.merge(purchaser, encasher, left_on='Date of Purchase', right_on='Date of\\nEncashment', how='inner')\n",
    "# Group by 'Date of Purchase' and 'Name of the Political Party'\n",
    "#grouped_df = inner_join_df.groupby(['Date of\\nEncashment', 'Name of the Political Party']).sum()\n",
    "\n",
    "# Display the inner join dataframe\n",
    "print(inner_join_df)"
   ]
  },
  {
   "cell_type": "code",
   "execution_count": 47,
   "id": "dab8c9f6-925c-4474-ad2c-2eee88ce7283",
   "metadata": {},
   "outputs": [],
   "source": [
    "# Save the DataFrame as a CSV file\n",
    "inner_join_df.to_csv('link.csv', index=False)"
   ]
  },
  {
   "cell_type": "code",
   "execution_count": 48,
   "id": "17fe6db4-bdd5-434f-a5f5-6527bf33f04d",
   "metadata": {},
   "outputs": [
    {
     "name": "stdout",
     "output_type": "stream",
     "text": [
      "\n",
      "Matched Values:\n",
      "        Date of Purchase                  Purchaser Name  Denomination_x  \\\n",
      "84           12/Apr/2019             A B C INDIA LIMITED          100000   \n",
      "86           12/Apr/2019             A B C INDIA LIMITED          100000   \n",
      "89           12/Apr/2019             A B C INDIA LIMITED          100000   \n",
      "91           12/Apr/2019             A B C INDIA LIMITED          100000   \n",
      "113          12/Apr/2019             A B C INDIA LIMITED          100000   \n",
      "...                  ...                             ...             ...   \n",
      "1727770      11/Jan/2024  WESTWELL GASES PRIVATE LIMITED        10000000   \n",
      "1727771      11/Jan/2024  WESTWELL GASES PRIVATE LIMITED        10000000   \n",
      "1727772      11/Jan/2024  WESTWELL GASES PRIVATE LIMITED        10000000   \n",
      "1727773      11/Jan/2024  WESTWELL GASES PRIVATE LIMITED        10000000   \n",
      "1727774      11/Jan/2024  WESTWELL GASES PRIVATE LIMITED        10000000   \n",
      "\n",
      "        Date of\\nEncashment Name of the Political Party  Denomination_y  \n",
      "84              12/Apr/2019        BHARTIYA JANTA PARTY          100000  \n",
      "86              12/Apr/2019        BHARTIYA JANTA PARTY          100000  \n",
      "89              12/Apr/2019        BHARTIYA JANTA PARTY          100000  \n",
      "91              12/Apr/2019        BHARTIYA JANTA PARTY          100000  \n",
      "113             12/Apr/2019        BHARTIYA JANTA PARTY          100000  \n",
      "...                     ...                         ...             ...  \n",
      "1727770         11/Jan/2024          TELUGU DESAM PARTY        10000000  \n",
      "1727771         11/Jan/2024          TELUGU DESAM PARTY        10000000  \n",
      "1727772         11/Jan/2024          TELUGU DESAM PARTY        10000000  \n",
      "1727773         11/Jan/2024          TELUGU DESAM PARTY        10000000  \n",
      "1727774         11/Jan/2024          TELUGU DESAM PARTY        10000000  \n",
      "\n",
      "[844891 rows x 6 columns]\n"
     ]
    }
   ],
   "source": [
    "# Match Denomination_x with Denomination_y\n",
    "matching_df = inner_join_df[inner_join_df['Denomination_x'] == inner_join_df['Denomination_y']]\n",
    "\n",
    "# Display the matched values\n",
    "print(\"\\nMatched Values:\")\n",
    "print(matching_df)"
   ]
  },
  {
   "cell_type": "code",
   "execution_count": 52,
   "id": "2311a812-c037-4308-a6c6-a32ca31c1320",
   "metadata": {},
   "outputs": [
    {
     "name": "stdout",
     "output_type": "stream",
     "text": [
      "        Date of Purchase                                  Purchaser Name  \\\n",
      "84           12/Apr/2019                             A B C INDIA LIMITED   \n",
      "506          12/Apr/2019                             A B C INDIA LIMITED   \n",
      "1034         12/Apr/2019                             A B C INDIA LIMITED   \n",
      "1079         12/Apr/2019                             A B C INDIA LIMITED   \n",
      "1094         12/Apr/2019                             A B C INDIA LIMITED   \n",
      "...                  ...                                             ...   \n",
      "1723567      11/Jan/2024            VIHAAN AUTO VENTURES PRIVATE LIMITED   \n",
      "1723709      11/Jan/2024  WESTERN UP POWER TRANSMISSION COMPANY LI MITED   \n",
      "1723781      11/Jan/2024  WESTERN UP POWER TRANSMISSION COMPANY LI MITED   \n",
      "1726919      11/Jan/2024                  WESTWELL GASES PRIVATE LIMITED   \n",
      "1726991      11/Jan/2024                  WESTWELL GASES PRIVATE LIMITED   \n",
      "\n",
      "         Denomination_x Date of\\nEncashment  \\\n",
      "84               100000         12/Apr/2019   \n",
      "506              100000         12/Apr/2019   \n",
      "1034            1000000         12/Apr/2019   \n",
      "1079            1000000         12/Apr/2019   \n",
      "1094            1000000         12/Apr/2019   \n",
      "...                 ...                 ...   \n",
      "1723567        10000000         11/Jan/2024   \n",
      "1723709        10000000         11/Jan/2024   \n",
      "1723781        10000000         11/Jan/2024   \n",
      "1726919        10000000         11/Jan/2024   \n",
      "1726991        10000000         11/Jan/2024   \n",
      "\n",
      "                      Name of the Political Party  Denomination_y  \n",
      "84                           BHARTIYA JANTA PARTY          100000  \n",
      "506        YSR CONGRESS PARTY (YUVAJANA SRAMIKA R          100000  \n",
      "1034     ALL INDIA ANNA DRAVIDA MUNNETRA KAZHAGAM         1000000  \n",
      "1079                       BHARAT RASHTRA SAMITHI         1000000  \n",
      "1094                         BHARTIYA JANTA PARTY         1000000  \n",
      "...                                           ...             ...  \n",
      "1723567                        TELUGU DESAM PARTY        10000000  \n",
      "1723709              ALL INDIA TRINAMOOL CONGRESS        10000000  \n",
      "1723781                        TELUGU DESAM PARTY        10000000  \n",
      "1726919              ALL INDIA TRINAMOOL CONGRESS        10000000  \n",
      "1726991                        TELUGU DESAM PARTY        10000000  \n",
      "\n",
      "[2862 rows x 6 columns]\n"
     ]
    }
   ],
   "source": [
    "# Drop duplicates based on specified columns\n",
    "matching_df_no_duplicates = matching_df.drop_duplicates()\n",
    "\n",
    "# Display the matched values without duplicates\n",
    "print(matching_df_no_duplicates)"
   ]
  },
  {
   "cell_type": "code",
   "execution_count": 50,
   "id": "622e52fe-d81e-4eb9-bafe-9d62d73411d2",
   "metadata": {},
   "outputs": [],
   "source": [
    "# Save the DataFrame as a CSV file\n",
    "matching_df_no_duplicates.to_csv('final_link.csv', index=False)"
   ]
  }
 ],
 "metadata": {
  "kernelspec": {
   "display_name": "Python 3 (ipykernel)",
   "language": "python",
   "name": "python3"
  },
  "language_info": {
   "codemirror_mode": {
    "name": "ipython",
    "version": 3
   },
   "file_extension": ".py",
   "mimetype": "text/x-python",
   "name": "python",
   "nbconvert_exporter": "python",
   "pygments_lexer": "ipython3",
   "version": "3.11.3"
  }
 },
 "nbformat": 4,
 "nbformat_minor": 5
}
