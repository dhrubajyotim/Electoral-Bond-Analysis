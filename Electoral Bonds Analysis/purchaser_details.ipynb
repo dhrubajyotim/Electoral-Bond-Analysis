{
 "cells": [
  {
   "cell_type": "code",
   "execution_count": 1,
   "id": "6a4a63dc-95c2-4f49-9f06-8f783c40c601",
   "metadata": {},
   "outputs": [
    {
     "name": "stderr",
     "output_type": "stream",
     "text": [
      "C:\\Users\\mdhru\\AppData\\Local\\Temp\\ipykernel_10784\\23967222.py:2: DeprecationWarning: \n",
      "Pyarrow will become a required dependency of pandas in the next major release of pandas (pandas 3.0),\n",
      "(to allow more performant data types, such as the Arrow string type, and better interoperability with other libraries)\n",
      "but was not found to be installed on your system.\n",
      "If this would cause problems for you,\n",
      "please provide us feedback at https://github.com/pandas-dev/pandas/issues/54466\n",
      "        \n",
      "  import pandas as pd\n"
     ]
    },
    {
     "name": "stdout",
     "output_type": "stream",
     "text": [
      "0     Date of Purchase                  Purchaser Name Denomination\n",
      "0          12/Apr/2019             A B C INDIA LIMITED     1,00,000\n",
      "1          12/Apr/2019             A B C INDIA LIMITED     1,00,000\n",
      "2          12/Apr/2019             A B C INDIA LIMITED    10,00,000\n",
      "3          12/Apr/2019             A B C INDIA LIMITED    10,00,000\n",
      "4          12/Apr/2019             A B C INDIA LIMITED     1,00,000\n",
      "...                ...                             ...          ...\n",
      "18866      11/Jan/2024  WESTWELL GASES PRIVATE LIMITED  1,00,00,000\n",
      "18867      11/Jan/2024  WESTWELL GASES PRIVATE LIMITED  1,00,00,000\n",
      "18868      11/Jan/2024  WESTWELL GASES PRIVATE LIMITED  1,00,00,000\n",
      "18869      11/Jan/2024  WESTWELL GASES PRIVATE LIMITED  1,00,00,000\n",
      "18870      11/Jan/2024  WESTWELL GASES PRIVATE LIMITED  1,00,00,000\n",
      "\n",
      "[18871 rows x 3 columns]\n"
     ]
    }
   ],
   "source": [
    "import pdfplumber\n",
    "import pandas as pd\n",
    "\n",
    "# Create df from table on first page to act as the first df:\n",
    "pdf_file = \"purchaser_details.pdf\"\n",
    "pdf = pdfplumber.open(pdf_file)\n",
    "pages = pdf.pages\n",
    "tbl = pages[0].extract_table()\n",
    "original_df = pd.DataFrame(tbl)\n",
    "\n",
    "# Use the first row as the header:\n",
    "original_df.columns = original_df.iloc[0]\n",
    "original_df = original_df[1:]  # Remove the first row, as it's now the header\n",
    "\n",
    "# Append data from remaining tables/pages:\n",
    "tables = []\n",
    "with pdfplumber.open(pdf_file) as pdf:\n",
    "    for i, pg in enumerate(pdf.pages[1:], start=1):  # Start from the second page (index 1)\n",
    "        tbl = pg.extract_table()\n",
    "        if tbl:\n",
    "            df = pd.DataFrame(tbl)\n",
    "            df.columns = original_df.columns  # Set the columns to match the header\n",
    "            tables.append(df)\n",
    "\n",
    "if tables:\n",
    "    # Concatenate all dataframes in the tables list along axis=0\n",
    "    original_df = pd.concat([original_df] + tables, ignore_index=True)\n",
    "\n",
    "print(original_df)\n"
   ]
  },
  {
   "cell_type": "code",
   "execution_count": 2,
   "id": "22a68f97-7c32-45b5-932e-5a0769a65585",
   "metadata": {},
   "outputs": [],
   "source": [
    "# Save the DataFrame as a CSV file\n",
    "original_df.to_csv('purchaser_details_output.csv', index=False)\n"
   ]
  },
  {
   "cell_type": "code",
   "execution_count": 6,
   "id": "610849f7-337e-4563-a83d-88b90aed29c6",
   "metadata": {},
   "outputs": [
    {
     "name": "stdout",
     "output_type": "stream",
     "text": [
      "       Date of Purchase                       Purchaser Name Denomination\n",
      "count             18871                                18871        18871\n",
      "unique              146                                 1316            5\n",
      "top         05/Jan/2022  FUTURE GAMING AND HOTEL SERVICES PR  1,00,00,000\n",
      "freq                570                                 1208        11671\n"
     ]
    }
   ],
   "source": [
    "import pandas as pd\n",
    "\n",
    "# Load the CSV file into a DataFrame\n",
    "df = pd.read_csv('purchaser_details_output.csv')\n",
    "\n",
    "# Display basic statistics and information about the DataFrame\n",
    "print(df.describe())\n"
   ]
  },
  {
   "cell_type": "code",
   "execution_count": 7,
   "id": "0304fe59-c9fc-4e42-b7f6-5c35f769edb1",
   "metadata": {},
   "outputs": [
    {
     "name": "stdout",
     "output_type": "stream",
     "text": [
      "                                      Purchaser Name  Denomination in Crores\n",
      "354              FUTURE GAMING AND HOTEL SERVICES PR                 1208.00\n",
      "652   MEGHA ENGINEERING AND INFRASTRUCTURES LI MITED                  821.00\n",
      "866                    QWIKSUPPLYCHAINPRIVATELIMITED                  410.00\n",
      "417                            HALDIA ENERGY LIMITED                  377.00\n",
      "1248                                 VEDANTA LIMITED                  375.65\n",
      "334                        ESSEL MINING AND INDS LTD                  224.50\n",
      "1299  WESTERN UP POWER TRANSMISSION COMPANY LI MITED                  220.00\n",
      "556                  KEVENTER FOODPARK INFRA LIMITED                  195.00\n",
      "619                                    MADANLAL LTD.                  185.50\n",
      "174                            BHARTI AIRTEL LIMITED                  183.00\n",
      "1306               YASHODA SUPER SPECIALITY HOSPITAL                  162.00\n",
      "1221             UTKAL ALUMINA INTERNATIONAL LIMITED                  135.30\n",
      "313                DLF COMMERCIAL DEVELOPERS LIMITED                  130.00\n",
      "665                          MKJ ENTERPRISES LIMITED                  128.35\n",
      "516                   JINDAL STEEL AND POWER LIMITED                  123.00\n",
      "140      B G SHIRKE CONSTRUCTION TECHNOLOGY PVT L TD                  117.00\n",
      "293                  DHARIWAL INFRASTRUCTURE LIMITED                  115.00\n",
      "236              CHENNAI GREEN WOODS PRIVATE LIMITED                  105.00\n",
      "191                   BIRLACARBONINDIAPRIVATELIMITED                  105.00\n",
      "965                                RUNGTA SONS P LTD                  100.00\n"
     ]
    }
   ],
   "source": [
    "import pandas as pd\n",
    "\n",
    "# Convert \"Denomination\" column to numeric type after removing commas\n",
    "df['Denomination'] = df['Denomination'].str.replace(',', '').astype(float)\n",
    "\n",
    "# Group by \"Name of the Political Party\" and find the sum of \"Denomination\"\n",
    "grouped_df = df.groupby('Purchaser Name')['Denomination'].sum().reset_index()\n",
    "\n",
    "# Sort the grouped DataFrame in descending order based on \"Denomination\"\n",
    "sorted_df = grouped_df.sort_values(by='Denomination', ascending=False)\n",
    "\n",
    "# Convert \"Denomination\" column to numeric type after removing commas (assuming commas were already removed)\n",
    "sorted_df['Denomination'] = sorted_df['Denomination'].astype(float)\n",
    "\n",
    "# Divide \"Denomination\" values by 10 million to represent in crores\n",
    "sorted_df['Denomination in Crores'] = sorted_df['Denomination'] / 10**7\n",
    "\n",
    "# Display the top 20 rows of the DataFrame with Denomination in crores\n",
    "print(sorted_df[['Purchaser Name', 'Denomination in Crores']].head(20))\n",
    "\n"
   ]
  }
 ],
 "metadata": {
  "kernelspec": {
   "display_name": "Python 3 (ipykernel)",
   "language": "python",
   "name": "python3"
  },
  "language_info": {
   "codemirror_mode": {
    "name": "ipython",
    "version": 3
   },
   "file_extension": ".py",
   "mimetype": "text/x-python",
   "name": "python",
   "nbconvert_exporter": "python",
   "pygments_lexer": "ipython3",
   "version": "3.11.3"
  }
 },
 "nbformat": 4,
 "nbformat_minor": 5
}
